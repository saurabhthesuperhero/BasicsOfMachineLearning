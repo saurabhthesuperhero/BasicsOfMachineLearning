{
  "nbformat": 4,
  "nbformat_minor": 0,
  "metadata": {
    "colab": {
      "name": "Numpy_Basics_Practice",
      "provenance": [],
      "authorship_tag": "ABX9TyMb+G9OSrlbEIYmPqDWV8Cv",
      "include_colab_link": true
    },
    "kernelspec": {
      "name": "python3",
      "display_name": "Python 3"
    }
  },
  "cells": [
    {
      "cell_type": "markdown",
      "metadata": {
        "id": "view-in-github",
        "colab_type": "text"
      },
      "source": [
        "<a href=\"https://colab.research.google.com/github/saurabhthesuperhero/BasicsOfMachineLearning/blob/master/Numpy_Basics_Practice.ipynb\" target=\"_parent\"><img src=\"https://colab.research.google.com/assets/colab-badge.svg\" alt=\"Open In Colab\"/></a>"
      ]
    },
    {
      "cell_type": "markdown",
      "metadata": {
        "id": "e_nhwQvG1CVz",
        "colab_type": "text"
      },
      "source": [
        "# **Numpy Basics**"
      ]
    },
    {
      "cell_type": "markdown",
      "metadata": {
        "id": "fFxHemrJ1K4u",
        "colab_type": "text"
      },
      "source": [
        "**Import Numpy**"
      ]
    },
    {
      "cell_type": "code",
      "metadata": {
        "id": "NOzdr_Cxi4Rd",
        "colab_type": "code",
        "colab": {}
      },
      "source": [
        "import numpy as np"
      ],
      "execution_count": null,
      "outputs": []
    },
    {
      "cell_type": "code",
      "metadata": {
        "id": "9D4LsYG4jYLH",
        "colab_type": "code",
        "colab": {}
      },
      "source": [
        "list=[1,2,3,4,5]"
      ],
      "execution_count": null,
      "outputs": []
    },
    {
      "cell_type": "code",
      "metadata": {
        "id": "4f77TVHPjZfg",
        "colab_type": "code",
        "colab": {
          "base_uri": "https://localhost:8080/",
          "height": 34
        },
        "outputId": "f0598eb2-4f06-4057-9980-2a5b7aa1369d"
      },
      "source": [
        "print(list)"
      ],
      "execution_count": null,
      "outputs": [
        {
          "output_type": "stream",
          "text": [
            "[1, 2, 3, 4, 5]\n"
          ],
          "name": "stdout"
        }
      ]
    },
    {
      "cell_type": "code",
      "metadata": {
        "id": "Pbthx9h_jyTW",
        "colab_type": "code",
        "colab": {
          "base_uri": "https://localhost:8080/",
          "height": 34
        },
        "outputId": "fa9b4322-7a4e-4cda-cd7c-de40cdf7f3cb"
      },
      "source": [
        "arr=np.array(list)\n",
        "print(arr)"
      ],
      "execution_count": null,
      "outputs": [
        {
          "output_type": "stream",
          "text": [
            "[1 2 3 4 5]\n"
          ],
          "name": "stdout"
        }
      ]
    },
    {
      "cell_type": "code",
      "metadata": {
        "id": "_OWqGhuckQ6z",
        "colab_type": "code",
        "colab": {
          "base_uri": "https://localhost:8080/",
          "height": 34
        },
        "outputId": "e8ef0fb3-8535-4c91-f9bd-87968db9b2fd"
      },
      "source": [
        "type(arr)\n",
        "print(arr.shape)"
      ],
      "execution_count": null,
      "outputs": [
        {
          "output_type": "stream",
          "text": [
            "(5,)\n"
          ],
          "name": "stdout"
        }
      ]
    },
    {
      "cell_type": "code",
      "metadata": {
        "id": "bfjCOl1_kbGP",
        "colab_type": "code",
        "colab": {}
      },
      "source": [
        "l1=[1,2,3,4,5]\n",
        "l2=[2,3,4,5,6]\n",
        "l3=[4,5,6,7,8]\n",
        "\n",
        "arr=np.array([l1,l2,l3])\n"
      ],
      "execution_count": null,
      "outputs": []
    },
    {
      "cell_type": "code",
      "metadata": {
        "id": "dM-_oJ2mmD1C",
        "colab_type": "code",
        "colab": {
          "base_uri": "https://localhost:8080/",
          "height": 104
        },
        "outputId": "d08b5417-e444-4433-c3ba-f1efdc0e607e"
      },
      "source": [
        "print(arr,\"\\n\",type(arr),\"\\n\",arr.shape)"
      ],
      "execution_count": null,
      "outputs": [
        {
          "output_type": "stream",
          "text": [
            "[[1 2 3 4 5]\n",
            " [2 3 4 5 6]\n",
            " [4 5 6 7 8]] \n",
            " <class 'numpy.ndarray'> \n",
            " (3, 5)\n"
          ],
          "name": "stdout"
        }
      ]
    },
    {
      "cell_type": "code",
      "metadata": {
        "id": "nVCUBw93mX4T",
        "colab_type": "code",
        "colab": {
          "base_uri": "https://localhost:8080/",
          "height": 278
        },
        "outputId": "feb741b6-c42a-4751-d11a-3e7ce6936489"
      },
      "source": [
        "arr.reshape(15,1)\n"
      ],
      "execution_count": null,
      "outputs": [
        {
          "output_type": "execute_result",
          "data": {
            "text/plain": [
              "array([[1],\n",
              "       [2],\n",
              "       [3],\n",
              "       [4],\n",
              "       [5],\n",
              "       [2],\n",
              "       [3],\n",
              "       [4],\n",
              "       [5],\n",
              "       [6],\n",
              "       [4],\n",
              "       [5],\n",
              "       [6],\n",
              "       [7],\n",
              "       [8]])"
            ]
          },
          "metadata": {
            "tags": []
          },
          "execution_count": 15
        }
      ]
    },
    {
      "cell_type": "markdown",
      "metadata": {
        "id": "evuIwVCwnafI",
        "colab_type": "text"
      },
      "source": [
        "# Indexing"
      ]
    },
    {
      "cell_type": "code",
      "metadata": {
        "id": "EW-3zkQWmIIR",
        "colab_type": "code",
        "colab": {}
      },
      "source": [
        "l1=[1,2,3,4,5]\n",
        "l2=[2,3,4,5,6]\n",
        "l3=[4,5,6,7,8]\n",
        "\n",
        "arr=np.array([l1,l2,l3])\n"
      ],
      "execution_count": null,
      "outputs": []
    },
    {
      "cell_type": "code",
      "metadata": {
        "id": "raQ7tnGuogOE",
        "colab_type": "code",
        "colab": {
          "base_uri": "https://localhost:8080/",
          "height": 52
        },
        "outputId": "462a57eb-21a9-49d4-d151-db355ca271cc"
      },
      "source": [
        "arr[:,:] #all row and column\n",
        "arr[0:2,0:2]"
      ],
      "execution_count": null,
      "outputs": [
        {
          "output_type": "execute_result",
          "data": {
            "text/plain": [
              "array([[1, 2],\n",
              "       [2, 3]])"
            ]
          },
          "metadata": {
            "tags": []
          },
          "execution_count": 23
        }
      ]
    },
    {
      "cell_type": "code",
      "metadata": {
        "id": "PNBgqw8GppFh",
        "colab_type": "code",
        "colab": {
          "base_uri": "https://localhost:8080/",
          "height": 52
        },
        "outputId": "f7f281ba-a86d-48da-edc0-ff1d0e35bd50"
      },
      "source": [
        "#pick 4,5,6,7 from second and third row\n",
        "arr[1:,2:4]"
      ],
      "execution_count": null,
      "outputs": [
        {
          "output_type": "execute_result",
          "data": {
            "text/plain": [
              "array([[4, 5],\n",
              "       [6, 7]])"
            ]
          },
          "metadata": {
            "tags": []
          },
          "execution_count": 24
        }
      ]
    },
    {
      "cell_type": "code",
      "metadata": {
        "id": "_zNVXTAap8P2",
        "colab_type": "code",
        "colab": {
          "base_uri": "https://localhost:8080/",
          "height": 34
        },
        "outputId": "62fdf491-f8db-43aa-c81f-5a2a1f1ded77"
      },
      "source": [
        "#pick 3,4,5 from seconnd row\n",
        "arr[1,1:4]"
      ],
      "execution_count": null,
      "outputs": [
        {
          "output_type": "execute_result",
          "data": {
            "text/plain": [
              "array([3, 4, 5])"
            ]
          },
          "metadata": {
            "tags": []
          },
          "execution_count": 25
        }
      ]
    },
    {
      "cell_type": "code",
      "metadata": {
        "id": "797wQS6XyFwE",
        "colab_type": "code",
        "colab": {
          "base_uri": "https://localhost:8080/",
          "height": 34
        },
        "outputId": "57c64ed4-3123-451d-d23c-b02cdd840651"
      },
      "source": [
        "arr=np.arange(0,10,2) #genrte numbers basically third parametr is step basically\n",
        "print(arr)"
      ],
      "execution_count": null,
      "outputs": [
        {
          "output_type": "stream",
          "text": [
            "[0 2 4 6 8]\n"
          ],
          "name": "stdout"
        }
      ]
    },
    {
      "cell_type": "code",
      "metadata": {
        "id": "-DHmbOwMykdk",
        "colab_type": "code",
        "colab": {
          "base_uri": "https://localhost:8080/",
          "height": 312
        },
        "outputId": "295493d8-4886-47c3-f7c5-48179b74360d"
      },
      "source": [
        "arr=np.linspace(1,10,100) # third paramter how many values u want\n",
        "print(arr)"
      ],
      "execution_count": null,
      "outputs": [
        {
          "output_type": "stream",
          "text": [
            "[ 1.          1.09090909  1.18181818  1.27272727  1.36363636  1.45454545\n",
            "  1.54545455  1.63636364  1.72727273  1.81818182  1.90909091  2.\n",
            "  2.09090909  2.18181818  2.27272727  2.36363636  2.45454545  2.54545455\n",
            "  2.63636364  2.72727273  2.81818182  2.90909091  3.          3.09090909\n",
            "  3.18181818  3.27272727  3.36363636  3.45454545  3.54545455  3.63636364\n",
            "  3.72727273  3.81818182  3.90909091  4.          4.09090909  4.18181818\n",
            "  4.27272727  4.36363636  4.45454545  4.54545455  4.63636364  4.72727273\n",
            "  4.81818182  4.90909091  5.          5.09090909  5.18181818  5.27272727\n",
            "  5.36363636  5.45454545  5.54545455  5.63636364  5.72727273  5.81818182\n",
            "  5.90909091  6.          6.09090909  6.18181818  6.27272727  6.36363636\n",
            "  6.45454545  6.54545455  6.63636364  6.72727273  6.81818182  6.90909091\n",
            "  7.          7.09090909  7.18181818  7.27272727  7.36363636  7.45454545\n",
            "  7.54545455  7.63636364  7.72727273  7.81818182  7.90909091  8.\n",
            "  8.09090909  8.18181818  8.27272727  8.36363636  8.45454545  8.54545455\n",
            "  8.63636364  8.72727273  8.81818182  8.90909091  9.          9.09090909\n",
            "  9.18181818  9.27272727  9.36363636  9.45454545  9.54545455  9.63636364\n",
            "  9.72727273  9.81818182  9.90909091 10.        ]\n"
          ],
          "name": "stdout"
        }
      ]
    },
    {
      "cell_type": "code",
      "metadata": {
        "id": "JXBG7erl0dbO",
        "colab_type": "code",
        "colab": {
          "base_uri": "https://localhost:8080/",
          "height": 52
        },
        "outputId": "392adc8d-d500-4fde-a70e-785f07a2af29"
      },
      "source": [
        "#copy and brodcasting\n",
        "arr=np.array([1,2,3,4,5])\n",
        "arr1=arr.copy()#create copy of it rather than sharing same memroy location \n",
        "arr1[2:]=100\n",
        "print(\"arr=\",arr)\n",
        "print(\"arr1=\",arr1)\n"
      ],
      "execution_count": null,
      "outputs": [
        {
          "output_type": "stream",
          "text": [
            "arr= [1 2 3 4 5]\n",
            "arr1= [  1   2 100 100 100]\n"
          ],
          "name": "stdout"
        }
      ]
    },
    {
      "cell_type": "code",
      "metadata": {
        "id": "QkUdfUwN2Lf1",
        "colab_type": "code",
        "colab": {
          "base_uri": "https://localhost:8080/",
          "height": 86
        },
        "outputId": "1a52b20e-0a66-4a61-e510-5a2d50c72f64"
      },
      "source": [
        "#some conditions use in practice\n",
        "print(arr)\n",
        "\n",
        "print(arr<2)\n",
        "print(arr*2)\n",
        "print(arr[arr<5]) # here u passing condition inside so it returns value"
      ],
      "execution_count": null,
      "outputs": [
        {
          "output_type": "stream",
          "text": [
            "[1 2 3 4 5]\n",
            "[ True False False False False]\n",
            "[ 2  4  6  8 10]\n",
            "[1 2 3 4]\n"
          ],
          "name": "stdout"
        }
      ]
    },
    {
      "cell_type": "code",
      "metadata": {
        "id": "quG1OBA03q_O",
        "colab_type": "code",
        "colab": {
          "base_uri": "https://localhost:8080/",
          "height": 104
        },
        "outputId": "293122a2-a268-4f96-af62-571b8d7e254f"
      },
      "source": [
        "#array of 1's\n",
        "\n",
        "print(np.ones(4,dtype=int))\n",
        "\n",
        "\n",
        "print(np.ones((4,2),dtype=int))\n",
        "\n",
        "\n"
      ],
      "execution_count": null,
      "outputs": [
        {
          "output_type": "stream",
          "text": [
            "[1 1 1 1]\n",
            "[[1 1]\n",
            " [1 1]\n",
            " [1 1]\n",
            " [1 1]]\n"
          ],
          "name": "stdout"
        }
      ]
    },
    {
      "cell_type": "code",
      "metadata": {
        "id": "l6UjKFoa-Ffb",
        "colab_type": "code",
        "colab": {
          "base_uri": "https://localhost:8080/",
          "height": 52
        },
        "outputId": "9471e435-a521-4141-f7da-0ade9dee9ee1"
      },
      "source": [
        "#random values\n",
        "\n",
        "np.random.randint(0,100,8).reshape(2,4)"
      ],
      "execution_count": null,
      "outputs": [
        {
          "output_type": "execute_result",
          "data": {
            "text/plain": [
              "array([[63, 23, 77,  9],\n",
              "       [94, 11, 30, 77]])"
            ]
          },
          "metadata": {
            "tags": []
          },
          "execution_count": 43
        }
      ]
    }
  ]
}